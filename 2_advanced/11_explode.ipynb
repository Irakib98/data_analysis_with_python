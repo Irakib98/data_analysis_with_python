{
 "cells": [
  {
   "cell_type": "code",
   "execution_count": 2,
   "id": "79eb4c59",
   "metadata": {},
   "outputs": [
    {
     "name": "stderr",
     "output_type": "stream",
     "text": [
      "c:\\Users\\ismail\\anaconda3\\envs\\data_analysis_with_python\\Lib\\site-packages\\tqdm\\auto.py:21: TqdmWarning: IProgress not found. Please update jupyter and ipywidgets. See https://ipywidgets.readthedocs.io/en/stable/user_install.html\n",
      "  from .autonotebook import tqdm as notebook_tqdm\n"
     ]
    }
   ],
   "source": [
    "import pandas as pd\n",
    "from datasets import load_dataset\n",
    "import matplotlib.pyplot as plt\n",
    "from tqdm import tqdm\n",
    "\n",
    "#loading data\n",
    "dataset = load_dataset('lukebarousse/data_jobs')\n",
    "df = dataset['train'].to_pandas()\n",
    "\n",
    "#data cleanup\n",
    "df['job_posted_date'] = pd.to_datetime(df['job_posted_date'])"
   ]
  },
  {
   "cell_type": "code",
   "execution_count": 3,
   "id": "d2dc4768",
   "metadata": {},
   "outputs": [
    {
     "data": {
      "text/html": [
       "<div>\n",
       "<style scoped>\n",
       "    .dataframe tbody tr th:only-of-type {\n",
       "        vertical-align: middle;\n",
       "    }\n",
       "\n",
       "    .dataframe tbody tr th {\n",
       "        vertical-align: top;\n",
       "    }\n",
       "\n",
       "    .dataframe thead th {\n",
       "        text-align: right;\n",
       "    }\n",
       "</style>\n",
       "<table border=\"1\" class=\"dataframe\">\n",
       "  <thead>\n",
       "    <tr style=\"text-align: right;\">\n",
       "      <th></th>\n",
       "      <th>job_title_short</th>\n",
       "      <th>job_skills</th>\n",
       "    </tr>\n",
       "  </thead>\n",
       "  <tbody>\n",
       "    <tr>\n",
       "      <th>0</th>\n",
       "      <td>Data Analyst</td>\n",
       "      <td>[excel, sql, python]</td>\n",
       "    </tr>\n",
       "    <tr>\n",
       "      <th>1</th>\n",
       "      <td>Data Scientist</td>\n",
       "      <td>[python, r]</td>\n",
       "    </tr>\n",
       "    <tr>\n",
       "      <th>2</th>\n",
       "      <td>Data Engineer</td>\n",
       "      <td>[aws, python, airflow]</td>\n",
       "    </tr>\n",
       "  </tbody>\n",
       "</table>\n",
       "</div>"
      ],
      "text/plain": [
       "  job_title_short              job_skills\n",
       "0    Data Analyst    [excel, sql, python]\n",
       "1  Data Scientist             [python, r]\n",
       "2   Data Engineer  [aws, python, airflow]"
      ]
     },
     "execution_count": 3,
     "metadata": {},
     "output_type": "execute_result"
    }
   ],
   "source": [
    "data = {\n",
    "    'job_title_short': ['Data Analyst', 'Data Scientist', 'Data Engineer'],\n",
    "    'job_skills': [['excel', 'sql', 'python'], ['python', 'r'], ['aws', 'python', 'airflow']]\n",
    "}\n",
    "\n",
    "df_skills = pd.DataFrame(data)\n",
    "\n",
    "df_skills"
   ]
  },
  {
   "cell_type": "code",
   "execution_count": 4,
   "id": "cfd1ba67",
   "metadata": {},
   "outputs": [
    {
     "data": {
      "image/png": "[encoded data removed]",
      "text/plain": [
       "<Figure size 640x480 with 1 Axes>"
      ]
     },
     "metadata": {},
     "output_type": "display_data"
    }
   ],
   "source": [
    "df_skills.explode('job_skills').value_counts('job_skills').plot(kind='bar')\n",
    "plt.show()"
   ]
  },
  {
   "cell_type": "code",
   "execution_count": 5,
   "id": "7fef0e70",
   "metadata": {},
   "outputs": [
    {
     "data": {
      "text/html": [
       "<div>\n",
       "<style scoped>\n",
       "    .dataframe tbody tr th:only-of-type {\n",
       "        vertical-align: middle;\n",
       "    }\n",
       "\n",
       "    .dataframe tbody tr th {\n",
       "        vertical-align: top;\n",
       "    }\n",
       "\n",
       "    .dataframe thead th {\n",
       "        text-align: right;\n",
       "    }\n",
       "</style>\n",
       "<table border=\"1\" class=\"dataframe\">\n",
       "  <thead>\n",
       "    <tr style=\"text-align: right;\">\n",
       "      <th></th>\n",
       "      <th>job_title_short</th>\n",
       "      <th>job_skills</th>\n",
       "    </tr>\n",
       "  </thead>\n",
       "  <tbody>\n",
       "    <tr>\n",
       "      <th>0</th>\n",
       "      <td>Senior Data Engineer</td>\n",
       "      <td>None</td>\n",
       "    </tr>\n",
       "    <tr>\n",
       "      <th>1</th>\n",
       "      <td>Data Analyst</td>\n",
       "      <td>['r', 'python', 'sql', 'nosql', 'power bi', 't...</td>\n",
       "    </tr>\n",
       "    <tr>\n",
       "      <th>2</th>\n",
       "      <td>Data Engineer</td>\n",
       "      <td>['python', 'sql', 'c#', 'azure', 'airflow', 'd...</td>\n",
       "    </tr>\n",
       "    <tr>\n",
       "      <th>3</th>\n",
       "      <td>Data Engineer</td>\n",
       "      <td>['python', 'c++', 'java', 'matlab', 'aws', 'te...</td>\n",
       "    </tr>\n",
       "    <tr>\n",
       "      <th>4</th>\n",
       "      <td>Data Engineer</td>\n",
       "      <td>['bash', 'python', 'oracle', 'aws', 'ansible',...</td>\n",
       "    </tr>\n",
       "  </tbody>\n",
       "</table>\n",
       "</div>"
      ],
      "text/plain": [
       "        job_title_short                                         job_skills\n",
       "0  Senior Data Engineer                                               None\n",
       "1          Data Analyst  ['r', 'python', 'sql', 'nosql', 'power bi', 't...\n",
       "2         Data Engineer  ['python', 'sql', 'c#', 'azure', 'airflow', 'd...\n",
       "3         Data Engineer  ['python', 'c++', 'java', 'matlab', 'aws', 'te...\n",
       "4         Data Engineer  ['bash', 'python', 'oracle', 'aws', 'ansible',..."
      ]
     },
     "execution_count": 5,
     "metadata": {},
     "output_type": "execute_result"
    }
   ],
   "source": [
    "df[['job_title_short','job_skills']].head(5)"
   ]
  },
  {
   "cell_type": "code",
   "execution_count": 6,
   "id": "6b7733fa",
   "metadata": {},
   "outputs": [],
   "source": [
    "df_exploded = df.explode('job_skills')"
   ]
  },
  {
   "cell_type": "code",
   "execution_count": 7,
   "id": "ab399271",
   "metadata": {},
   "outputs": [
    {
     "data": {
      "text/plain": [
       "job_title_short    job_skills                       \n",
       "Business Analyst   ['airflow', 'flow']                  1\n",
       "                   ['airflow']                          2\n",
       "                   ['airtable']                         1\n",
       "                   ['alteryx', 'excel', 'power bi']     1\n",
       "                   ['alteryx', 'excel']                 2\n",
       "                                                       ..\n",
       "Software Engineer  ['xamarin', 'ionic', 'windows']      1\n",
       "                   ['xamarin', 'node', 'git', 'svn']    1\n",
       "                   ['xamarin']                          1\n",
       "                   ['yarn']                             2\n",
       "                   ['zoom']                             8\n",
       "Length: 215220, dtype: int64"
      ]
     },
     "execution_count": 7,
     "metadata": {},
     "output_type": "execute_result"
    }
   ],
   "source": [
    "df_exploded.groupby(['job_title_short','job_skills']).size()"
   ]
  },
  {
   "cell_type": "code",
   "execution_count": 8,
   "id": "206ab073",
   "metadata": {},
   "outputs": [
    {
     "data": {
      "text/plain": [
       "job_title_short    job_skills                       \n",
       "Business Analyst   ['airflow', 'flow']                  1\n",
       "                   ['airflow']                          2\n",
       "                   ['airtable']                         1\n",
       "                   ['alteryx', 'excel', 'power bi']     1\n",
       "                   ['alteryx', 'excel']                 2\n",
       "                                                       ..\n",
       "Software Engineer  ['xamarin', 'ionic', 'windows']      1\n",
       "                   ['xamarin', 'node', 'git', 'svn']    1\n",
       "                   ['xamarin']                          1\n",
       "                   ['yarn']                             2\n",
       "                   ['zoom']                             8\n",
       "Length: 215220, dtype: int64"
      ]
     },
     "execution_count": 8,
     "metadata": {},
     "output_type": "execute_result"
    }
   ],
   "source": [
    "skills_count = df_exploded.groupby(['job_title_short','job_skills']).size()\n",
    "skills_count"
   ]
  },
  {
   "cell_type": "code",
   "execution_count": 9,
   "id": "3ced33b3",
   "metadata": {},
   "outputs": [
    {
     "data": {
      "text/html": [
       "<div>\n",
       "<style scoped>\n",
       "    .dataframe tbody tr th:only-of-type {\n",
       "        vertical-align: middle;\n",
       "    }\n",
       "\n",
       "    .dataframe tbody tr th {\n",
       "        vertical-align: top;\n",
       "    }\n",
       "\n",
       "    .dataframe thead th {\n",
       "        text-align: right;\n",
       "    }\n",
       "</style>\n",
       "<table border=\"1\" class=\"dataframe\">\n",
       "  <thead>\n",
       "    <tr style=\"text-align: right;\">\n",
       "      <th></th>\n",
       "      <th>job_title_short</th>\n",
       "      <th>job_skills</th>\n",
       "      <th>skill_count</th>\n",
       "    </tr>\n",
       "  </thead>\n",
       "  <tbody>\n",
       "    <tr>\n",
       "      <th>19078</th>\n",
       "      <td>Data Analyst</td>\n",
       "      <td>['excel']</td>\n",
       "      <td>8095</td>\n",
       "    </tr>\n",
       "    <tr>\n",
       "      <th>49382</th>\n",
       "      <td>Data Analyst</td>\n",
       "      <td>['sql']</td>\n",
       "      <td>4997</td>\n",
       "    </tr>\n",
       "    <tr>\n",
       "      <th>136380</th>\n",
       "      <td>Data Scientist</td>\n",
       "      <td>['python']</td>\n",
       "      <td>4659</td>\n",
       "    </tr>\n",
       "    <tr>\n",
       "      <th>35354</th>\n",
       "      <td>Data Analyst</td>\n",
       "      <td>['sql', 'excel']</td>\n",
       "      <td>3020</td>\n",
       "    </tr>\n",
       "    <tr>\n",
       "      <th>1233</th>\n",
       "      <td>Business Analyst</td>\n",
       "      <td>['excel']</td>\n",
       "      <td>2443</td>\n",
       "    </tr>\n",
       "    <tr>\n",
       "      <th>...</th>\n",
       "      <td>...</td>\n",
       "      <td>...</td>\n",
       "      <td>...</td>\n",
       "    </tr>\n",
       "    <tr>\n",
       "      <th>12</th>\n",
       "      <td>Business Analyst</td>\n",
       "      <td>['alteryx', 'tableau', 'power bi', 'excel']</td>\n",
       "      <td>1</td>\n",
       "    </tr>\n",
       "    <tr>\n",
       "      <th>13</th>\n",
       "      <td>Business Analyst</td>\n",
       "      <td>['alteryx', 'tableau', 'power bi', 'looker']</td>\n",
       "      <td>1</td>\n",
       "    </tr>\n",
       "    <tr>\n",
       "      <th>14</th>\n",
       "      <td>Business Analyst</td>\n",
       "      <td>['alteryx', 'tableau', 'qlik']</td>\n",
       "      <td>1</td>\n",
       "    </tr>\n",
       "    <tr>\n",
       "      <th>19</th>\n",
       "      <td>Business Analyst</td>\n",
       "      <td>['angular', 'excel', 'tableau']</td>\n",
       "      <td>1</td>\n",
       "    </tr>\n",
       "    <tr>\n",
       "      <th>215204</th>\n",
       "      <td>Software Engineer</td>\n",
       "      <td>['word', 'excel', 'smartsheet']</td>\n",
       "      <td>1</td>\n",
       "    </tr>\n",
       "  </tbody>\n",
       "</table>\n",
       "<p>215220 rows × 3 columns</p>\n",
       "</div>"
      ],
      "text/plain": [
       "          job_title_short                                    job_skills  \\\n",
       "19078        Data Analyst                                     ['excel']   \n",
       "49382        Data Analyst                                       ['sql']   \n",
       "136380     Data Scientist                                    ['python']   \n",
       "35354        Data Analyst                              ['sql', 'excel']   \n",
       "1233     Business Analyst                                     ['excel']   \n",
       "...                   ...                                           ...   \n",
       "12       Business Analyst   ['alteryx', 'tableau', 'power bi', 'excel']   \n",
       "13       Business Analyst  ['alteryx', 'tableau', 'power bi', 'looker']   \n",
       "14       Business Analyst                ['alteryx', 'tableau', 'qlik']   \n",
       "19       Business Analyst               ['angular', 'excel', 'tableau']   \n",
       "215204  Software Engineer               ['word', 'excel', 'smartsheet']   \n",
       "\n",
       "        skill_count  \n",
       "19078          8095  \n",
       "49382          4997  \n",
       "136380         4659  \n",
       "35354          3020  \n",
       "1233           2443  \n",
       "...             ...  \n",
       "12                1  \n",
       "13                1  \n",
       "14                1  \n",
       "19                1  \n",
       "215204            1  \n",
       "\n",
       "[215220 rows x 3 columns]"
      ]
     },
     "execution_count": 9,
     "metadata": {},
     "output_type": "execute_result"
    }
   ],
   "source": [
    "df_skills_count = skills_count.reset_index(name='skill_count')\n",
    "df_skills_count = df_skills_count.sort_values(by='skill_count',ascending=False)\n",
    "df_skills_count"
   ]
  },
  {
   "cell_type": "code",
   "execution_count": 17,
   "id": "761d00aa",
   "metadata": {},
   "outputs": [
    {
     "data": {
      "image/png": "[encoded data removed]",
      "text/plain": [
       "<Figure size 640x480 with 1 Axes>"
      ]
     },
     "metadata": {},
     "output_type": "display_data"
    }
   ],
   "source": [
    "job_title = 'Data Engineer'\n",
    "top_skills = 10\n",
    "\n",
    "df_skill_final = df_skills_count[df_skills_count['job_title_short'] == job_title].head(top_skills)\n",
    "df_skill_final.plot(kind='barh',x='job_skills',y='skill_count')\n",
    "plt.title(f'Top {top_skills} skills for {job_title}')\n",
    "plt.gca().invert_yaxis()\n",
    "plt.xlabel('job_posting_count')\n",
    "plt.ylabel('')\n",
    "plt.legend().set_visible(False)\n"
   ]
  },
  {
   "cell_type": "code",
   "execution_count": null,
   "id": "14540857",
   "metadata": {},
   "outputs": [],
   "source": []
  }
 ],
 "metadata": {
  "kernelspec": {
   "display_name": "data_analysis_with_python",
   "language": "python",
   "name": "python3"
  },
  "language_info": {
   "codemirror_mode": {
    "name": "ipython",
    "version": 3
   },
   "file_extension": ".py",
   "mimetype": "text/x-python",
   "name": "python",
   "nbconvert_exporter": "python",
   "pygments_lexer": "ipython3",
   "version": "3.11.13"
  }
 },
 "nbformat": 4,
 "nbformat_minor": 5
}
